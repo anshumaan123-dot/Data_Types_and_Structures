{
  "nbformat": 4,
  "nbformat_minor": 0,
  "metadata": {
    "colab": {
      "provenance": []
    },
    "kernelspec": {
      "name": "python3",
      "display_name": "Python 3"
    },
    "language_info": {
      "name": "python"
    }
  },
  "cells": [
    {
      "cell_type": "markdown",
      "source": [
        "#Data Types and Structures Questions"
      ],
      "metadata": {
        "id": "213q8_7Ya7WD"
      }
    },
    {
      "cell_type": "markdown",
      "source": [
        "Q1. What are data structures, and why are they important ?\n",
        "- Data structures are ways of organizing and storing data so it can be accessed and modified efficiently. They are crucial for writing efficient algorithms and managing large volumes of data in real-world applications.\n",
        "\n",
        "Q2.  Explain the difference between mutable and immutable data types with examples ?\n",
        "\n",
        "- Mutable: Can be changed after creation.\n",
        "Ex: list = [1, 2, 3] → list[0] = 10\n",
        "- Immutable: Cannot be changed after creation.\n",
        "Ex: tuple = (1, 2, 3) → you cannot modify tuple[0]\n",
        "\n",
        "Q3. What are the main differences between lists and tuples in Python ?\n",
        "- List: Mutable, Created with square brackets [], Slightly slower, Best for dynamic data, Has many built-in methods (e.g., append, remove), Uses more memory, Not hashable (can't be dict keys).\n",
        "- Tuple: Immutable, Created with parentheses (), Faster, Best for fixed, constant data, Fewer methods available, More memory-efficient, Hashable if elements are immutable.\n",
        "\n",
        "Q4. Describe how dictionaries store data ?\n",
        "- Dictionaries store data as key-value pairs using a hash table internally. Each key maps to a value, enabling fast lookups.\n",
        "\n",
        "Q5. Why might you use a set instead of a list in Python ?\n",
        "- To remove duplicates automatically.\n",
        "- For faster membership testing (in).\n",
        "- When order doesn't matter.\n",
        "\n",
        "Q6. What is a string in Python, and how is it different from a list ?\n",
        "- A string is a sequence of characters (immutable), while a list is a mutable sequence of elements that can include any data type.\n",
        "\n",
        "Q7. How do tuples ensure data integrity in Python ?\n",
        "- Tuples are immutable, so once created, their data cannot be altered, making them ideal for storing fixed, reliable data (e.g., coordinates).\n",
        "\n",
        "Q8. What is a hash table, and how does it relate to dictionaries in Python ?\n",
        "- A hash table stores data in key-value pairs using a hash function to index the keys. Python dictionaries are built on hash tables, enabling fast access.\n",
        "\n",
        "Q9. Can lists contain different data types in Python ?\n",
        "- Yes lists can contain different datatypes in python because it is heterogeneous.\n",
        "\n",
        "Q10. Explain why strings are immutable in Python ?\n",
        "- Strings are immutable in Python for several important reasons:\n",
        "1. Memory Efficiency (Interning)\n",
        "2. Security and Predictability\n",
        "3. Thread-Safety\n",
        "4. Simplicity and Consistency\n",
        "5. Enables Hashing\n",
        "\n",
        "Q11. What advantages do dictionaries offer over lists for certain tasks ?\n",
        "- Dictionaries offer several key advantages over lists for certain tasks in Python, especially when key-based access and efficiency are important:\n",
        "1. Fast Lookup by Key\n",
        "2. More Descriptive Access\n",
        "3. Better for Unordered Data\n",
        "4. No Need to Know Position\n",
        "5. Avoids Duplicate Keys\n",
        "\n",
        "Q12. Describe a scenario where using a tuple would be preferable over a list ?\n",
        "- A tuple is preferable over a list when you want to store a fixed collection of items that should not change throughout the program—ensuring data integrity and safety.\n",
        "1. Returning multiple values from a function\n",
        "2. Storing configuration constants\n",
        "3. Using as dictionary keys\n",
        "\n",
        "Q13. How do sets handle duplicate values in Python ?\n",
        "- In Python, sets automatically eliminate duplicate values — they only store unique elements.\n",
        "- No Duplicates Allowed: When you add duplicate items to a set, only one copy is kept.\n",
        "- Order Doesn't Matter: Sets are unordered, so elements may appear in any order when printed.\n",
        "- Duplicates from Lists: Sets are often used to remove duplicates from other collections like lists.\n",
        "\n",
        "Q14. How does the “in” keyword work differently for lists and dictionaries ?\n",
        "- The in keyword behaves differently for lists and dictionaries in Python:\n",
        "1. In a List: Checks if a value exists in the list, Performs a linear search (O(n) time complexity).\n",
        "2. In a Dictionary: Checks if a key exists in the dictionary (not the value), Uses a hash table for fast lookup (O(1) average time).\n",
        "\n",
        "Q15. Can you modify the elements of a tuple? Explain why or why not ?\n",
        "- No, we cannot modify the elements of a tuple in Python because tuples are immutable.\n",
        "- Once a tuple is created, its contents are fixed and cannot be changed.\n",
        "- You cannot add, remove, or change elements.\n",
        "- Any attempt to modify a tuple raises a TypeError.\n",
        "\n",
        "Q16. What is a nested dictionary, and give an example of its use case ?\n",
        "- A nested dictionary in Python is a dictionary inside another dictionary. It's used to store hierarchical or structured data, where each key maps to another dictionary rather than a simple value.\n",
        "\n",
        "Q17.  Describe the time complexity of accessing elements in a dictionary ?\n",
        "- In Python, dictionaries use a hash table to store data, which enables fast access to elements. The time complexity of accessing elements in a dictionary is as follows:\n",
        "1. Average case: O(1) for accessing, inserting, and deleting elements.\n",
        "2. Worst case: O(n) in case of many hash collisions.\n",
        "\n",
        "Q18. In what situations are lists preferred over dictionaries ?\n",
        "- Lists are preferred over dictionaries in the following situations:\n",
        "1. When you need ordered data.\n",
        "2. When you need to access elements by index.\n",
        "3. For homogeneous collections.\n",
        "4. When you need a simple collection.\n",
        "5. For modifying and appending elements dynamically.\n",
        "\n",
        "Q19. Why are dictionaries considered unordered, and how does that affect data retrieval ?\n",
        "- In Python, dictionaries are considered unordered because they store data in a way that doesn't guarantee the order of the key-value pairs. This is due to the underlying hash table structure used by dictionaries for efficient data retrieval.\n",
        "- It affect the data retrival in the following ways:\n",
        "1. Key-Based Access\n",
        "2. Iteration\n",
        "3. Unordered Nature in Use\n",
        "\n",
        "Q20.  Explain the difference between a list and a dictionary in terms of data retrieval ?\n",
        "- Lists: Access by Index, Ordered and Indexed, Retrieval by Index is fast, You don't need to associate elements with keys, just a simple sequence of items.\n",
        "- Dictionaries: Access by Key, Key-Value Pairs, Key-based Retrieval is O(1), You need to associate unique keys with values (e.g., storing user profiles with user IDs as keys).\n",
        "\n",
        "\n"
      ],
      "metadata": {
        "id": "iIg7Q_g5a-jq"
      }
    },
    {
      "cell_type": "markdown",
      "source": [
        "#Practical Questions"
      ],
      "metadata": {
        "id": "wTRxqlY4lHcg"
      }
    },
    {
      "cell_type": "code",
      "execution_count": 2,
      "metadata": {
        "colab": {
          "base_uri": "https://localhost:8080/"
        },
        "id": "xGnYij3ca0SN",
        "outputId": "39097d76-362c-4f3c-e204-5aee1df6082c"
      },
      "outputs": [
        {
          "output_type": "stream",
          "name": "stdout",
          "text": [
            "Anshumaan\n"
          ]
        }
      ],
      "source": [
        "#1. Write a code to create a string with your name and print it\n",
        "\n",
        "name = \"Anshumaan\"\n",
        "print(name)\n"
      ]
    },
    {
      "cell_type": "code",
      "source": [
        "#2. Write a code to find the length of the string \"Hello World\"\n",
        "\n",
        "text = \"Hello World\"\n",
        "length = len(text)\n",
        "print(\"Length of the string:\", length)"
      ],
      "metadata": {
        "colab": {
          "base_uri": "https://localhost:8080/"
        },
        "id": "bt7z1iv8lS7O",
        "outputId": "c26bc753-7508-4f9d-c89e-c3a27181a8c2"
      },
      "execution_count": 3,
      "outputs": [
        {
          "output_type": "stream",
          "name": "stdout",
          "text": [
            "Length of the string: 11\n"
          ]
        }
      ]
    },
    {
      "cell_type": "code",
      "source": [
        "#3. Write a code to slice the first 3 characters from the string \"Python Programming\"\n",
        "\n",
        "text = \"Python Programming\"\n",
        "sliced_text = text[:3]\n",
        "print(sliced_text)"
      ],
      "metadata": {
        "colab": {
          "base_uri": "https://localhost:8080/"
        },
        "id": "D5L-S271lgRP",
        "outputId": "828963c6-b132-4b9c-a065-92df118b7e93"
      },
      "execution_count": 4,
      "outputs": [
        {
          "output_type": "stream",
          "name": "stdout",
          "text": [
            "Pyt\n"
          ]
        }
      ]
    },
    {
      "cell_type": "code",
      "source": [
        "#4. Write a code to convert the string \"hello\" to uppercase\n",
        "\n",
        "text = \"hello\"\n",
        "uppercase_text = text.upper()\n",
        "print(uppercase_text)"
      ],
      "metadata": {
        "colab": {
          "base_uri": "https://localhost:8080/"
        },
        "id": "YTXHLUVKlpUK",
        "outputId": "251ff4c7-5c7e-4cf8-b1d2-a09cd75b8017"
      },
      "execution_count": 5,
      "outputs": [
        {
          "output_type": "stream",
          "name": "stdout",
          "text": [
            "HELLO\n"
          ]
        }
      ]
    },
    {
      "cell_type": "code",
      "source": [
        "#5. Write a code to replace the word \"apple\" with \"orange\" in the string \"I like apple\"\n",
        "\n",
        "text = \"I like apple\"\n",
        "new_text = text.replace(\"apple\", \"orange\")\n",
        "print(new_text)"
      ],
      "metadata": {
        "colab": {
          "base_uri": "https://localhost:8080/"
        },
        "id": "meJopUWUmhg_",
        "outputId": "1ea5ec61-3ec9-4981-8c39-b1310fa5fdfd"
      },
      "execution_count": 6,
      "outputs": [
        {
          "output_type": "stream",
          "name": "stdout",
          "text": [
            "I like orange\n"
          ]
        }
      ]
    },
    {
      "cell_type": "code",
      "source": [
        "#6. Write a code to create a list with numbers 1 to 5 and print it\n",
        "\n",
        "numbers = [1, 2, 3, 4, 5]\n",
        "print(numbers)"
      ],
      "metadata": {
        "colab": {
          "base_uri": "https://localhost:8080/"
        },
        "id": "lSAU1W0_mtO8",
        "outputId": "7f129969-3d39-4b4c-cced-26fe407dcad3"
      },
      "execution_count": 7,
      "outputs": [
        {
          "output_type": "stream",
          "name": "stdout",
          "text": [
            "[1, 2, 3, 4, 5]\n"
          ]
        }
      ]
    },
    {
      "cell_type": "code",
      "source": [
        "#7. Write a code to append the number 10 to the list [1, 2, 3, 4]\n",
        "\n",
        "numbers = [1, 2, 3, 4]\n",
        "numbers.append(10)\n",
        "print(numbers)"
      ],
      "metadata": {
        "colab": {
          "base_uri": "https://localhost:8080/"
        },
        "id": "bva1lynsng2W",
        "outputId": "46186f7a-ff13-4843-bd58-c085922a1fca"
      },
      "execution_count": 8,
      "outputs": [
        {
          "output_type": "stream",
          "name": "stdout",
          "text": [
            "[1, 2, 3, 4, 10]\n"
          ]
        }
      ]
    },
    {
      "cell_type": "code",
      "source": [
        "#8. Write a code to remove the number 3 from the list [1, 2, 3, 4, 5]\n",
        "\n",
        "numbers = [1, 2, 3, 4, 5]\n",
        "numbers.remove(3)\n",
        "print(numbers)"
      ],
      "metadata": {
        "colab": {
          "base_uri": "https://localhost:8080/"
        },
        "id": "waRPWPHPnuvE",
        "outputId": "565b9995-dacb-4d5e-ac00-5b28c0691132"
      },
      "execution_count": 9,
      "outputs": [
        {
          "output_type": "stream",
          "name": "stdout",
          "text": [
            "[1, 2, 4, 5]\n"
          ]
        }
      ]
    },
    {
      "cell_type": "code",
      "source": [
        "#9. Write a code to access the second element in the list ['a', 'b', 'c', 'd']\n",
        "\n",
        "letters = ['a', 'b', 'c', 'd']\n",
        "second_element = letters[1]\n",
        "print(second_element)"
      ],
      "metadata": {
        "colab": {
          "base_uri": "https://localhost:8080/"
        },
        "id": "Ck3dWIlHoXa2",
        "outputId": "65dd97c4-d0f5-4599-8ed4-81f9efa8a54b"
      },
      "execution_count": 10,
      "outputs": [
        {
          "output_type": "stream",
          "name": "stdout",
          "text": [
            "b\n"
          ]
        }
      ]
    },
    {
      "cell_type": "code",
      "source": [
        "#10. Write a code to reverse the list [10, 20, 30, 40, 50]\n",
        "\n",
        "numbers = [10, 20, 30, 40, 50]\n",
        "numbers.reverse()\n",
        "print(numbers)"
      ],
      "metadata": {
        "colab": {
          "base_uri": "https://localhost:8080/"
        },
        "id": "ucCLfRhQofe7",
        "outputId": "32526e95-1d90-4f90-8467-26da2e7a230c"
      },
      "execution_count": 11,
      "outputs": [
        {
          "output_type": "stream",
          "name": "stdout",
          "text": [
            "[50, 40, 30, 20, 10]\n"
          ]
        }
      ]
    },
    {
      "cell_type": "code",
      "source": [
        "#11. Write a code to create a tuple with the elements 100, 200, 300 and print it.\n",
        "\n",
        "my_tuple = (100, 200, 300)\n",
        "print(my_tuple)"
      ],
      "metadata": {
        "colab": {
          "base_uri": "https://localhost:8080/"
        },
        "id": "kV1p6KyBopIy",
        "outputId": "49169a32-3f36-4974-be89-1b6230f5cb46"
      },
      "execution_count": 12,
      "outputs": [
        {
          "output_type": "stream",
          "name": "stdout",
          "text": [
            "(100, 200, 300)\n"
          ]
        }
      ]
    },
    {
      "cell_type": "code",
      "source": [
        "#12 Write a code to access the second-to-last element of the tuple ('red', 'green', 'blue', 'yellow')\n",
        "\n",
        "colors = ('red', 'green', 'blue', 'yellow')\n",
        "second_last = colors[-2]\n",
        "print(second_last)"
      ],
      "metadata": {
        "colab": {
          "base_uri": "https://localhost:8080/"
        },
        "id": "Pw24vIxQoxDT",
        "outputId": "fb140a32-cc1d-4829-c0c5-8415336d0624"
      },
      "execution_count": 13,
      "outputs": [
        {
          "output_type": "stream",
          "name": "stdout",
          "text": [
            "blue\n"
          ]
        }
      ]
    },
    {
      "cell_type": "code",
      "source": [
        "#13. Write a code to find the minimum number in the tuple (10, 20, 5, 15)\n",
        "\n",
        "numbers = (10, 20, 5, 15)\n",
        "minimum = min(numbers)\n",
        "print(minimum)"
      ],
      "metadata": {
        "colab": {
          "base_uri": "https://localhost:8080/"
        },
        "id": "srFOwFrZpw9N",
        "outputId": "77b03ac7-8d26-4444-e98b-755cf650c1d5"
      },
      "execution_count": 14,
      "outputs": [
        {
          "output_type": "stream",
          "name": "stdout",
          "text": [
            "5\n"
          ]
        }
      ]
    },
    {
      "cell_type": "code",
      "source": [
        "#14. Write a code to find the index of the element \"cat\" in the tuple ('dog', 'cat', 'rabbit')\n",
        "\n",
        "animals = ('dog', 'cat', 'rabbit')\n",
        "index_of_cat = animals.index('cat')\n",
        "print(index_of_cat)"
      ],
      "metadata": {
        "colab": {
          "base_uri": "https://localhost:8080/"
        },
        "id": "p1YUrmw2p6oh",
        "outputId": "35c7cedc-04b1-43c8-dbaa-2eec2f4f2690"
      },
      "execution_count": 15,
      "outputs": [
        {
          "output_type": "stream",
          "name": "stdout",
          "text": [
            "1\n"
          ]
        }
      ]
    },
    {
      "cell_type": "code",
      "source": [
        "#15.  Write a code to create a tuple containing three different fruits and check if \"kiwi\" is in it\n",
        "\n",
        "fruits = ('apple', 'banana', 'mango')\n",
        "if 'kiwi' in fruits:\n",
        "    print(\"Kiwi is in the tuple.\")\n",
        "else:\n",
        "    print(\"Kiwi is not in the tuple.\")"
      ],
      "metadata": {
        "colab": {
          "base_uri": "https://localhost:8080/"
        },
        "id": "71iKuSsIqE2A",
        "outputId": "38db952c-1646-48f2-bc3a-63107f070605"
      },
      "execution_count": 16,
      "outputs": [
        {
          "output_type": "stream",
          "name": "stdout",
          "text": [
            "Kiwi is not in the tuple.\n"
          ]
        }
      ]
    },
    {
      "cell_type": "code",
      "source": [
        "#16.  Write a code to create a set with the elements 'a', 'b', 'c' and print it\n",
        "\n",
        "my_set = {'a', 'b', 'c'}\n",
        "print(my_set)"
      ],
      "metadata": {
        "colab": {
          "base_uri": "https://localhost:8080/"
        },
        "id": "n6dokM-0qNxp",
        "outputId": "555f553f-c808-4b77-916d-05a3d9bf1ca0"
      },
      "execution_count": 17,
      "outputs": [
        {
          "output_type": "stream",
          "name": "stdout",
          "text": [
            "{'a', 'b', 'c'}\n"
          ]
        }
      ]
    },
    {
      "cell_type": "code",
      "source": [
        "#17. Write a code to clear all elements from the set {1, 2, 3, 4, 5}\n",
        "\n",
        "numbers = {1, 2, 3, 4, 5}\n",
        "numbers.clear()\n",
        "print(numbers)"
      ],
      "metadata": {
        "colab": {
          "base_uri": "https://localhost:8080/"
        },
        "id": "be6hsAOHqehW",
        "outputId": "eb723553-db92-448d-9dbc-b9a113a19f98"
      },
      "execution_count": 18,
      "outputs": [
        {
          "output_type": "stream",
          "name": "stdout",
          "text": [
            "set()\n"
          ]
        }
      ]
    },
    {
      "cell_type": "code",
      "source": [
        "#18.  Write a code to remove the element 4 from the set {1, 2, 3, 4}\n",
        "\n",
        "numbers = {1, 2, 3, 4}\n",
        "numbers.remove(4)\n",
        "print(numbers)"
      ],
      "metadata": {
        "colab": {
          "base_uri": "https://localhost:8080/"
        },
        "id": "oAE-j1FQsZBz",
        "outputId": "8c98e602-4726-45b0-80de-2aa4b66f431c"
      },
      "execution_count": 19,
      "outputs": [
        {
          "output_type": "stream",
          "name": "stdout",
          "text": [
            "{1, 2, 3}\n"
          ]
        }
      ]
    },
    {
      "cell_type": "code",
      "source": [
        "#19.  Write a code to find the union of two sets {1, 2, 3} and {3, 4, 5}\n",
        "\n",
        "set1 = {1, 2, 3}\n",
        "set2 = {3, 4, 5}\n",
        "union_set = set1.union(set2)\n",
        "print(union_set)"
      ],
      "metadata": {
        "colab": {
          "base_uri": "https://localhost:8080/"
        },
        "id": "PJbHmsuJslgW",
        "outputId": "dc457a12-4928-4e7f-f661-e9934156086d"
      },
      "execution_count": 20,
      "outputs": [
        {
          "output_type": "stream",
          "name": "stdout",
          "text": [
            "{1, 2, 3, 4, 5}\n"
          ]
        }
      ]
    },
    {
      "cell_type": "code",
      "source": [
        "#20. Write a code to find the intersection of two sets {1, 2, 3} and {2, 3, 4}\n",
        "\n",
        "set1 = {1, 2, 3}\n",
        "set2 = {2, 3, 4}\n",
        "intersection_set = set1.intersection(set2)\n",
        "print(intersection_set)"
      ],
      "metadata": {
        "colab": {
          "base_uri": "https://localhost:8080/"
        },
        "id": "TLjXeY_jtP_w",
        "outputId": "956e63f1-a995-41ad-b6ac-738207da31fd"
      },
      "execution_count": 21,
      "outputs": [
        {
          "output_type": "stream",
          "name": "stdout",
          "text": [
            "{2, 3}\n"
          ]
        }
      ]
    },
    {
      "cell_type": "code",
      "source": [
        "#21. Write a code to create a dictionary with the keys \"name\", \"age\", and \"city\", and print it\n",
        "\n",
        "person = { \"name\": \"Anshumaan\", \"age\": 22, \"city\": \"Rourkela\"}\n",
        "print(person)"
      ],
      "metadata": {
        "colab": {
          "base_uri": "https://localhost:8080/"
        },
        "id": "nQvOHQSSt5yk",
        "outputId": "ad91b4cd-845e-4c86-ef04-ed5153c56e08"
      },
      "execution_count": 22,
      "outputs": [
        {
          "output_type": "stream",
          "name": "stdout",
          "text": [
            "{'name': 'Anshumaan', 'age': 22, 'city': 'Rourkela'}\n"
          ]
        }
      ]
    },
    {
      "cell_type": "code",
      "source": [
        "#22. Write a code to add a new key-value pair \"country\": \"USA\" to the dictionary {'name': 'John', 'age': 25}\n",
        "\n",
        "person = {'name': 'John', 'age': 25}\n",
        "person['country'] = 'USA'\n",
        "print(person)"
      ],
      "metadata": {
        "colab": {
          "base_uri": "https://localhost:8080/"
        },
        "id": "Fy4JXROfuLXr",
        "outputId": "70ebe842-afcd-4963-e213-39d0f0ea509a"
      },
      "execution_count": 24,
      "outputs": [
        {
          "output_type": "stream",
          "name": "stdout",
          "text": [
            "{'name': 'John', 'age': 25, 'country': 'USA'}\n"
          ]
        }
      ]
    },
    {
      "cell_type": "code",
      "source": [
        "#23. Write a code to access the value associated with the key \"name\" in the dictionary {'name': 'Alice', 'age': 30}.\n",
        "\n",
        "person = {'name': 'Alice', 'age': 30}\n",
        "name_value = person['name']\n",
        "print(name_value)"
      ],
      "metadata": {
        "colab": {
          "base_uri": "https://localhost:8080/"
        },
        "id": "7TdC3fPOucb_",
        "outputId": "b1c776fd-fb18-4471-8499-be2590a1942a"
      },
      "execution_count": 25,
      "outputs": [
        {
          "output_type": "stream",
          "name": "stdout",
          "text": [
            "Alice\n"
          ]
        }
      ]
    },
    {
      "cell_type": "code",
      "source": [
        "#24. Write a code to remove the key \"age\" from the dictionary {'name': 'Bob', 'age': 22, 'city': 'New York'}.\n",
        "\n",
        "person = {'name': 'Bob', 'age': 22, 'city': 'New York'}\n",
        "person.pop('age')\n",
        "print(person)"
      ],
      "metadata": {
        "colab": {
          "base_uri": "https://localhost:8080/"
        },
        "id": "vea_kXP2uq48",
        "outputId": "392313d4-36fa-437c-909d-786226c0b857"
      },
      "execution_count": 26,
      "outputs": [
        {
          "output_type": "stream",
          "name": "stdout",
          "text": [
            "{'name': 'Bob', 'city': 'New York'}\n"
          ]
        }
      ]
    },
    {
      "cell_type": "code",
      "source": [
        "#25. Write a code to check if the key \"city\" exists in the dictionary {'name': 'Alice', 'city': 'Paris'}\n",
        "\n",
        "person = {'name': 'Alice', 'city': 'Paris'}\n",
        "if 'city' in person:\n",
        "    print(\"The key 'city' exists in the dictionary.\")\n",
        "else:\n",
        "    print(\"The key 'city' does not exist in the dictionary.\")"
      ],
      "metadata": {
        "colab": {
          "base_uri": "https://localhost:8080/"
        },
        "id": "1i7cCJ8ku4ZP",
        "outputId": "6539ce35-ad1c-47f0-ecd0-75c93c1c98f0"
      },
      "execution_count": 27,
      "outputs": [
        {
          "output_type": "stream",
          "name": "stdout",
          "text": [
            "The key 'city' exists in the dictionary.\n"
          ]
        }
      ]
    },
    {
      "cell_type": "code",
      "source": [
        "#26. Write a code to create a list, a tuple, and a dictionary, and print them all\n",
        "\n",
        "my_list = [1, 2, 3, 4, 5]\n",
        "my_tuple = ('apple', 'banana', 'cherry')\n",
        "my_dict = {'name': 'Alice', 'age': 30, 'city': 'New York'}\n",
        "print(\"List:\", my_list)\n",
        "print(\"Tuple:\", my_tuple)\n",
        "print(\"Dictionary:\", my_dict)"
      ],
      "metadata": {
        "colab": {
          "base_uri": "https://localhost:8080/"
        },
        "id": "k5bQ7YofvqW-",
        "outputId": "8767dfbb-ff84-4cc0-9366-043dfd7c1d42"
      },
      "execution_count": 28,
      "outputs": [
        {
          "output_type": "stream",
          "name": "stdout",
          "text": [
            "List: [1, 2, 3, 4, 5]\n",
            "Tuple: ('apple', 'banana', 'cherry')\n",
            "Dictionary: {'name': 'Alice', 'age': 30, 'city': 'New York'}\n"
          ]
        }
      ]
    },
    {
      "cell_type": "code",
      "source": [
        "#27. Write a code to create a list of 5 random numbers between 1 and 100, sort it in ascending order, and print the result\n",
        "\n",
        "import random\n",
        "random_numbers = random.sample(range(1, 101), 5)\n",
        "random_numbers.sort()\n",
        "print(random_numbers)"
      ],
      "metadata": {
        "colab": {
          "base_uri": "https://localhost:8080/"
        },
        "id": "XhPxW72GxlR0",
        "outputId": "2121a86a-7ca7-47ab-c76e-95521c8d6eac"
      },
      "execution_count": 31,
      "outputs": [
        {
          "output_type": "stream",
          "name": "stdout",
          "text": [
            "[7, 13, 42, 83, 99]\n"
          ]
        }
      ]
    },
    {
      "cell_type": "code",
      "source": [
        "#28. Write a code to create a list with strings and print the element at the third index\n",
        "\n",
        "my_list = ['apple', 'banana', 'cherry', 'date', 'elderberry']\n",
        "print(my_list[3])"
      ],
      "metadata": {
        "colab": {
          "base_uri": "https://localhost:8080/"
        },
        "id": "ql-cQ1azyYOI",
        "outputId": "e2b61ab0-d71c-4aeb-da56-86348cfc9b98"
      },
      "execution_count": 32,
      "outputs": [
        {
          "output_type": "stream",
          "name": "stdout",
          "text": [
            "date\n"
          ]
        }
      ]
    },
    {
      "cell_type": "code",
      "source": [
        "#29. Write a code to combine two dictionaries into one and print the result\n",
        "\n",
        "dict1 = {'name': 'Manav', 'age': 30}\n",
        "dict2 = {'city': 'Delhi', 'country': 'India'}\n",
        "combined_dict = {**dict1, **dict2}\n",
        "print(combined_dict)"
      ],
      "metadata": {
        "colab": {
          "base_uri": "https://localhost:8080/"
        },
        "id": "qSh3ijhhylj9",
        "outputId": "8ffbe4e1-04bf-4a41-b05d-1ad745ef3196"
      },
      "execution_count": 34,
      "outputs": [
        {
          "output_type": "stream",
          "name": "stdout",
          "text": [
            "{'name': 'Manav', 'age': 30, 'city': 'Delhi', 'country': 'India'}\n"
          ]
        }
      ]
    },
    {
      "cell_type": "code",
      "source": [
        "#Write a code to convert a list of strings into a set\n",
        "\n",
        "my_list = ['apple', 'banana', 'cherry', 'coconut', 'pineapple']\n",
        "my_set = set(my_list)\n",
        "print(my_set)"
      ],
      "metadata": {
        "colab": {
          "base_uri": "https://localhost:8080/"
        },
        "id": "2YlWp4MSyzM-",
        "outputId": "2888ff41-b8fa-4013-ba81-7bc20da3d3ad"
      },
      "execution_count": 36,
      "outputs": [
        {
          "output_type": "stream",
          "name": "stdout",
          "text": [
            "{'banana', 'pineapple', 'apple', 'cherry', 'coconut'}\n"
          ]
        }
      ]
    }
  ]
}